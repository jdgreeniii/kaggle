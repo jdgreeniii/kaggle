{
 "cells": [
  {
   "cell_type": "code",
   "execution_count": 1,
   "id": "moving-brick",
   "metadata": {},
   "outputs": [],
   "source": [
    "import pandas as pd\n",
    "import numpy as np\n",
    "from sklearn.preprocessing import StandardScaler\n",
    "import tensorflow as tf\n",
    "from tensorflow import keras\n",
    "from tensorflow.keras import layers, Sequential\n",
    "from tensorflow.keras.losses import SparseCategoricalCrossentropy \n",
    "from tensorflow.keras.optimizers import Adam\n",
    "from tensorflow.keras.layers import Softmax"
   ]
  },
  {
   "cell_type": "code",
   "execution_count": 2,
   "id": "herbal-islam",
   "metadata": {},
   "outputs": [
    {
     "data": {
      "text/plain": [
       "feature_0      int64\n",
       "feature_1      int64\n",
       "feature_2      int64\n",
       "feature_3      int64\n",
       "feature_4      int64\n",
       "               ...  \n",
       "feature_71     int64\n",
       "feature_72     int64\n",
       "feature_73     int64\n",
       "feature_74     int64\n",
       "target        object\n",
       "Length: 76, dtype: object"
      ]
     },
     "execution_count": 2,
     "metadata": {},
     "output_type": "execute_result"
    }
   ],
   "source": [
    "df = pd.read_csv('train.csv')\n",
    "df.head()\n",
    "df.pop('id')\n",
    "df.dtypes"
   ]
  },
  {
   "cell_type": "code",
   "execution_count": 3,
   "id": "molecular-circulation",
   "metadata": {},
   "outputs": [],
   "source": [
    "target = df.pop('target').tolist()"
   ]
  },
  {
   "cell_type": "code",
   "execution_count": 4,
   "id": "designing-boundary",
   "metadata": {},
   "outputs": [
    {
     "data": {
      "text/plain": [
       "0        200000\n",
       "1        200001\n",
       "2        200002\n",
       "3        200003\n",
       "4        200004\n",
       "          ...  \n",
       "99995    299995\n",
       "99996    299996\n",
       "99997    299997\n",
       "99998    299998\n",
       "99999    299999\n",
       "Name: id, Length: 100000, dtype: int64"
      ]
     },
     "execution_count": 4,
     "metadata": {},
     "output_type": "execute_result"
    }
   ],
   "source": [
    "test_df = pd.read_csv('test.csv')\n",
    "test_df.pop('id')"
   ]
  },
  {
   "cell_type": "code",
   "execution_count": 5,
   "id": "thorough-prisoner",
   "metadata": {},
   "outputs": [],
   "source": [
    "target = [int(i[-1]) - 1 for i in target]\n",
    "target = np.asarray(target)"
   ]
  },
  {
   "cell_type": "code",
   "execution_count": 6,
   "id": "governing-begin",
   "metadata": {},
   "outputs": [],
   "source": [
    "df = StandardScaler().fit_transform(df)\n",
    "test_df = StandardScaler().fit_transform(test_df)"
   ]
  },
  {
   "cell_type": "code",
   "execution_count": 7,
   "id": "worth-economics",
   "metadata": {},
   "outputs": [],
   "source": [
    "input_shape = df.shape[1]"
   ]
  },
  {
   "cell_type": "code",
   "execution_count": 8,
   "id": "adopted-jackson",
   "metadata": {},
   "outputs": [],
   "source": [
    "batch_size = 4"
   ]
  },
  {
   "cell_type": "code",
   "execution_count": 9,
   "id": "located-habitat",
   "metadata": {},
   "outputs": [
    {
     "name": "stdout",
     "output_type": "stream",
     "text": [
      "Count for Class0: 9118\n",
      "Count for Class1: 24431\n",
      "Count for Class2: 14798\n",
      "Count for Class3: 4704\n",
      "Count for Class4: 3064\n",
      "Count for Class5: 51811\n",
      "Count for Class6: 14769\n",
      "Count for Class7: 51763\n",
      "Count for Class8: 25542\n"
     ]
    }
   ],
   "source": [
    "for i, j  in enumerate(np.unique(target)):\n",
    "    print(f'Count for Class{i}: {list(target).count(j)}')"
   ]
  },
  {
   "cell_type": "code",
   "execution_count": 12,
   "id": "upset-height",
   "metadata": {},
   "outputs": [],
   "source": [
    "train = df[0:int(len(df)*.65)]\n",
    "y_train = target[0:int(len(df)*.65)]\n",
    "val_x = df[int(len(df)*.65):] \n",
    "val_y = target[int(len(df)*.65):]"
   ]
  },
  {
   "cell_type": "code",
   "execution_count": 13,
   "id": "basic-corpus",
   "metadata": {},
   "outputs": [],
   "source": [
    "def Model():\n",
    "    x = Sequential()\n",
    "    x.add(layers.Dense(128, activation = 'relu', input_shape = (input_shape,)))\n",
    "    x.add(layers.Dense(256, activation = 'relu'))\n",
    "    x.add(layers.Dense(512, activation = 'relu'))\n",
    "    x.add(layers.Dense(1028, activation = 'relu'))\n",
    "    x.add(layers.Dense(512, activation = 'relu'))\n",
    "    x.add(layers.Dense(256, activation = 'relu'))\n",
    "    x.add(layers.Dropout(.4))\n",
    "    x.add(layers.Dense(128, activation = 'relu'))\n",
    "    x.add(layers.Dense(64, activation = 'relu'))\n",
    "    x.add(layers.Dense(9, activation = 'relu'))\n",
    "    return x"
   ]
  },
  {
   "cell_type": "code",
   "execution_count": 14,
   "id": "harmful-provider",
   "metadata": {},
   "outputs": [],
   "source": [
    "model = Model()"
   ]
  },
  {
   "cell_type": "code",
   "execution_count": 15,
   "id": "charitable-briefs",
   "metadata": {},
   "outputs": [
    {
     "name": "stdout",
     "output_type": "stream",
     "text": [
      "Model: \"sequential\"\n",
      "_________________________________________________________________\n",
      "Layer (type)                 Output Shape              Param #   \n",
      "=================================================================\n",
      "dense (Dense)                (None, 128)               9728      \n",
      "_________________________________________________________________\n",
      "dense_1 (Dense)              (None, 256)               33024     \n",
      "_________________________________________________________________\n",
      "dense_2 (Dense)              (None, 512)               131584    \n",
      "_________________________________________________________________\n",
      "dense_3 (Dense)              (None, 1028)              527364    \n",
      "_________________________________________________________________\n",
      "dense_4 (Dense)              (None, 512)               526848    \n",
      "_________________________________________________________________\n",
      "dense_5 (Dense)              (None, 256)               131328    \n",
      "_________________________________________________________________\n",
      "dropout (Dropout)            (None, 256)               0         \n",
      "_________________________________________________________________\n",
      "dense_6 (Dense)              (None, 128)               32896     \n",
      "_________________________________________________________________\n",
      "dense_7 (Dense)              (None, 64)                8256      \n",
      "_________________________________________________________________\n",
      "dense_8 (Dense)              (None, 9)                 585       \n",
      "=================================================================\n",
      "Total params: 1,401,613\n",
      "Trainable params: 1,401,613\n",
      "Non-trainable params: 0\n",
      "_________________________________________________________________\n"
     ]
    }
   ],
   "source": [
    "model.summary()"
   ]
  },
  {
   "cell_type": "code",
   "execution_count": 16,
   "id": "appropriate-julian",
   "metadata": {},
   "outputs": [],
   "source": [
    "model.compile(optimizer=Adam(learning_rate=0.0001), loss=tf.keras.losses.SparseCategoricalCrossentropy(from_logits=True))"
   ]
  },
  {
   "cell_type": "code",
   "execution_count": null,
   "id": "respiratory-times",
   "metadata": {},
   "outputs": [
    {
     "name": "stdout",
     "output_type": "stream",
     "text": [
      "Epoch 1/5\n",
      "50000/50000 [==============================] - 847s 17ms/step - loss: 2.3058 - val_loss: 1.8444\n",
      "Epoch 2/5\n",
      "50000/50000 [==============================] - ETA: 0s - loss: 2.2836- ETA: 1"
     ]
    }
   ],
   "source": [
    "model.fit(df, target, batch_size, epochs = 5, validation_data= (val_x, val_y)) # try weighting classes based on representation in training data"
   ]
  },
  {
   "cell_type": "code",
   "execution_count": null,
   "id": "legendary-cattle",
   "metadata": {},
   "outputs": [],
   "source": [
    "probability_model = tf.keras.Sequential([model, \n",
    "                                         tf.keras.layers.Softmax()])"
   ]
  },
  {
   "cell_type": "code",
   "execution_count": null,
   "id": "spoken-senate",
   "metadata": {},
   "outputs": [],
   "source": [
    "preds = probability_model.predict(test_df)"
   ]
  },
  {
   "cell_type": "code",
   "execution_count": null,
   "id": "wound-cattle",
   "metadata": {},
   "outputs": [],
   "source": [
    "preds_copy = preds"
   ]
  },
  {
   "cell_type": "code",
   "execution_count": null,
   "id": "million-nylon",
   "metadata": {},
   "outputs": [],
   "source": [
    "np.max(preds_copy)"
   ]
  },
  {
   "cell_type": "code",
   "execution_count": null,
   "id": "prescribed-lexington",
   "metadata": {},
   "outputs": [],
   "source": [
    "preds_copy[1]"
   ]
  },
  {
   "cell_type": "code",
   "execution_count": null,
   "id": "decent-liability",
   "metadata": {},
   "outputs": [],
   "source": []
  },
  {
   "cell_type": "code",
   "execution_count": null,
   "id": "ultimate-corner",
   "metadata": {},
   "outputs": [],
   "source": [
    "preds_df = pd.DataFrame(preds_copy, columns = ['Class_1', 'Class_2', 'Class_3', 'Class_4', 'Class_5', 'Class_6', 'Class_7', 'Class_8', 'Class_9'])"
   ]
  },
  {
   "cell_type": "code",
   "execution_count": null,
   "id": "wireless-rochester",
   "metadata": {},
   "outputs": [],
   "source": [
    "preds_df['id'] = range(200000,300000)\n",
    "preds_df = preds_df.set_index(preds_df['id'])\n",
    "preds_df = preds_df.drop('id', axis = 1)\n",
    "preds_df.head()"
   ]
  },
  {
   "cell_type": "code",
   "execution_count": null,
   "id": "sustainable-economy",
   "metadata": {},
   "outputs": [],
   "source": [
    "preds_df.to_csv('fourth_NN.csv')"
   ]
  },
  {
   "cell_type": "code",
   "execution_count": null,
   "id": "literary-connection",
   "metadata": {},
   "outputs": [],
   "source": []
  },
  {
   "cell_type": "code",
   "execution_count": null,
   "id": "controlled-telling",
   "metadata": {},
   "outputs": [],
   "source": []
  },
  {
   "cell_type": "markdown",
   "id": "standard-lover",
   "metadata": {},
   "source": []
  }
 ],
 "metadata": {
  "kernelspec": {
   "display_name": "Python 3",
   "language": "python",
   "name": "python3"
  },
  "language_info": {
   "codemirror_mode": {
    "name": "ipython",
    "version": 3
   },
   "file_extension": ".py",
   "mimetype": "text/x-python",
   "name": "python",
   "nbconvert_exporter": "python",
   "pygments_lexer": "ipython3",
   "version": "3.8.7"
  }
 },
 "nbformat": 4,
 "nbformat_minor": 5
}
